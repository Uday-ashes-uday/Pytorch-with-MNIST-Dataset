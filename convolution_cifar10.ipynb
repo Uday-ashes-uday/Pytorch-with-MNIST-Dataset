{
  "nbformat": 4,
  "nbformat_minor": 0,
  "metadata": {
    "colab": {
      "provenance": [],
      "gpuType": "T4",
      "authorship_tag": "ABX9TyNXy+S1ZvhlAs2qMX7dLEaD",
      "include_colab_link": true
    },
    "kernelspec": {
      "name": "python3",
      "display_name": "Python 3"
    },
    "language_info": {
      "name": "python"
    },
    "accelerator": "GPU"
  },
  "cells": [
    {
      "cell_type": "markdown",
      "metadata": {
        "id": "view-in-github",
        "colab_type": "text"
      },
      "source": [
        "<a href=\"https://colab.research.google.com/github/Uday-ashes-uday/Pytorch-with-MNIST-Dataset/blob/main/convolution_cifar10.ipynb\" target=\"_parent\"><img src=\"https://colab.research.google.com/assets/colab-badge.svg\" alt=\"Open In Colab\"/></a>"
      ]
    },
    {
      "cell_type": "code",
      "execution_count": 1,
      "metadata": {
        "id": "S_K4W-D6KXvO"
      },
      "outputs": [],
      "source": [
        "import torch\n",
        "import torch.nn as nn\n",
        "import torch.nn.functional as F\n",
        "import torchvision\n",
        "import torchvision.transforms as transforms\n",
        "import matplotlib.pyplot as plt\n",
        "import numpy as np"
      ]
    },
    {
      "cell_type": "code",
      "source": [
        "if torch.cuda.is_available():\n",
        "  device='cuda'\n",
        "else:\n",
        "  device='cpu'"
      ],
      "metadata": {
        "id": "Mq555CXRLIhf"
      },
      "execution_count": 2,
      "outputs": []
    },
    {
      "cell_type": "code",
      "source": [
        "#set hyperparameters\n",
        "\n",
        "num_epochs=4\n",
        "batch_size=4\n",
        "learning_rate=0.001\n",
        "\n",
        "#transformations to be made\n",
        "\n",
        "transforms=transforms.Compose([transforms.ToTensor(),\n",
        "                               transforms.Normalize((0.5,0.5,0.5),(0.5,0.5,0.5))])"
      ],
      "metadata": {
        "id": "OAHarAnSLQeD"
      },
      "execution_count": 3,
      "outputs": []
    },
    {
      "cell_type": "code",
      "source": [
        "#get cifar10 data\n",
        "\n",
        "train_dataset=torchvision.datasets.CIFAR10(root='/content/cifar/train',\n",
        "                                           train=True,\n",
        "                                           download=True,\n",
        "\n",
        "                                           transform=transforms)\n",
        "\n",
        "test_dataset=torchvision.datasets.CIFAR10(root='/content/cifar/test',\n",
        "                                          train=False,\n",
        "                                          download=True,\n",
        "                                          transform=transforms)\n",
        "\n"
      ],
      "metadata": {
        "colab": {
          "base_uri": "https://localhost:8080/"
        },
        "id": "GqjNWJGxLocR",
        "outputId": "23fc8ab5-4bad-411a-8d29-1d3ba34bcd22"
      },
      "execution_count": 4,
      "outputs": [
        {
          "output_type": "stream",
          "name": "stdout",
          "text": [
            "Downloading https://www.cs.toronto.edu/~kriz/cifar-10-python.tar.gz to /content/cifar/train/cifar-10-python.tar.gz\n"
          ]
        },
        {
          "output_type": "stream",
          "name": "stderr",
          "text": [
            "100%|██████████| 170498071/170498071 [00:02<00:00, 64054996.41it/s]\n"
          ]
        },
        {
          "output_type": "stream",
          "name": "stdout",
          "text": [
            "Extracting /content/cifar/train/cifar-10-python.tar.gz to /content/cifar/train\n",
            "Downloading https://www.cs.toronto.edu/~kriz/cifar-10-python.tar.gz to /content/cifar/test/cifar-10-python.tar.gz\n"
          ]
        },
        {
          "output_type": "stream",
          "name": "stderr",
          "text": [
            "100%|██████████| 170498071/170498071 [00:01<00:00, 90070938.88it/s]\n"
          ]
        },
        {
          "output_type": "stream",
          "name": "stdout",
          "text": [
            "Extracting /content/cifar/test/cifar-10-python.tar.gz to /content/cifar/test\n"
          ]
        }
      ]
    },
    {
      "cell_type": "code",
      "source": [
        "#convert datasets into dataloaders\n",
        "\n",
        "train_loader=torch.utils.data.DataLoader(train_dataset,\n",
        "                                         batch_size=32,\n",
        "                                         shuffle=True)\n",
        "\n",
        "test_loader=torch.utils.data.DataLoader(test_dataset,\n",
        "                                        batch_size=32,\n",
        "                                        shuffle=False)"
      ],
      "metadata": {
        "id": "DoOz9cjIMsp9"
      },
      "execution_count": 40,
      "outputs": []
    },
    {
      "cell_type": "code",
      "source": [
        "#class labels\n",
        "\n",
        "labels=['plane','car','bird','cat','deer','dog','frog','horse','ship','truck']"
      ],
      "metadata": {
        "id": "Ay_Qonw5NTtP"
      },
      "execution_count": 41,
      "outputs": []
    },
    {
      "cell_type": "code",
      "source": [
        "#implement convnet\n",
        "\n",
        "class ConvNet(nn.Module):\n",
        "  def __init__(self):\n",
        "    super().__init__()\n",
        "    self.conv1=nn.Conv2d(3,6,5)\n",
        "    self.pool=nn.MaxPool2d(2,2)\n",
        "    self.conv2=nn.Conv2d(6,16,5)\n",
        "    self.fc1=nn.Linear(16*5*5,120)\n",
        "    self.fc2=nn.Linear(120,84)\n",
        "    self.fc3=nn.Linear(84,10)\n",
        "\n",
        "  def forward(self,x):\n",
        "    x=self.pool(F.relu(self.conv1(x)))\n",
        "    #print(x.shape)\n",
        "    x=self.pool(F.relu(self.conv2(x)))\n",
        "    #print(x.shape)\n",
        "    x=x.view(-1,16*5*5)\n",
        "    x=F.relu(self.fc1(x))\n",
        "    x=F.relu(self.fc2(x))\n",
        "    x=self.fc3(x)\n",
        "    return x\n",
        "\n",
        "\n",
        "\n",
        "\n",
        "\n",
        ""
      ],
      "metadata": {
        "id": "gMnxd5rQNk9A"
      },
      "execution_count": 42,
      "outputs": []
    },
    {
      "cell_type": "code",
      "source": [
        "#instantiate model\n",
        "\n",
        "model=ConvNet().to(device)\n",
        "\n",
        "#set loss function and an optimizer\n",
        "\n",
        "loss_fn=nn.CrossEntropyLoss()\n",
        "optimizer=torch.optim.SGD(model.parameters(),lr=learning_rate)"
      ],
      "metadata": {
        "id": "oHj-_AsSOvJS"
      },
      "execution_count": 43,
      "outputs": []
    },
    {
      "cell_type": "code",
      "source": [
        "len(train_loader)"
      ],
      "metadata": {
        "colab": {
          "base_uri": "https://localhost:8080/"
        },
        "id": "YQ3F4dScOYb1",
        "outputId": "424f7f59-87e7-4cda-fce0-a1381157478d"
      },
      "execution_count": 44,
      "outputs": [
        {
          "output_type": "execute_result",
          "data": {
            "text/plain": [
              "1563"
            ]
          },
          "metadata": {},
          "execution_count": 44
        }
      ]
    },
    {
      "cell_type": "code",
      "source": [
        "num_epochs=30\n",
        "n_total_steps=len(train_loader)\n",
        "\n",
        "for epoch in range(num_epochs):\n",
        "\n",
        "  for i,(images,labels)in enumerate(train_loader):\n",
        "\n",
        "    images=images.to(device)\n",
        "    labels=labels.to(device)\n",
        "\n",
        "\n",
        "    #forward pass\n",
        "\n",
        "    outs=model(images)\n",
        "    loss=loss_fn(outs,labels)\n",
        "\n",
        "    #backward and optimize\n",
        "    optimizer.zero_grad()\n",
        "    loss.backward()\n",
        "    optimizer.step()\n",
        "\n",
        "    if (i+1)%200 ==0:\n",
        "      print(f'Epoch {epoch+1}/{num_epochs}  Step{i+1}/{n_total_steps} Loss {loss.item():.4f}')\n",
        "\n",
        "\n"
      ],
      "metadata": {
        "colab": {
          "base_uri": "https://localhost:8080/"
        },
        "id": "CrjeUlKCDfc5",
        "outputId": "c536c176-67d5-4aff-ce8c-01d3212953bf"
      },
      "execution_count": 58,
      "outputs": [
        {
          "output_type": "stream",
          "name": "stdout",
          "text": [
            "Epoch 1/30  Step200/1563 Loss 2.1371\n",
            "Epoch 1/30  Step400/1563 Loss 1.8735\n",
            "Epoch 1/30  Step600/1563 Loss 1.6735\n",
            "Epoch 1/30  Step800/1563 Loss 1.8331\n",
            "Epoch 1/30  Step1000/1563 Loss 1.6128\n",
            "Epoch 1/30  Step1200/1563 Loss 1.8332\n",
            "Epoch 1/30  Step1400/1563 Loss 1.7636\n",
            "Epoch 2/30  Step200/1563 Loss 1.7374\n",
            "Epoch 2/30  Step400/1563 Loss 1.5659\n",
            "Epoch 2/30  Step600/1563 Loss 1.6621\n",
            "Epoch 2/30  Step800/1563 Loss 1.6839\n",
            "Epoch 2/30  Step1000/1563 Loss 1.8641\n",
            "Epoch 2/30  Step1200/1563 Loss 1.7745\n",
            "Epoch 2/30  Step1400/1563 Loss 1.7378\n",
            "Epoch 3/30  Step200/1563 Loss 1.8354\n",
            "Epoch 3/30  Step400/1563 Loss 1.6811\n",
            "Epoch 3/30  Step600/1563 Loss 1.8255\n",
            "Epoch 3/30  Step800/1563 Loss 1.4254\n",
            "Epoch 3/30  Step1000/1563 Loss 1.7093\n",
            "Epoch 3/30  Step1200/1563 Loss 1.8352\n",
            "Epoch 3/30  Step1400/1563 Loss 1.8435\n",
            "Epoch 4/30  Step200/1563 Loss 1.5651\n",
            "Epoch 4/30  Step400/1563 Loss 1.9120\n",
            "Epoch 4/30  Step600/1563 Loss 1.5760\n",
            "Epoch 4/30  Step800/1563 Loss 1.7096\n",
            "Epoch 4/30  Step1000/1563 Loss 1.6262\n",
            "Epoch 4/30  Step1200/1563 Loss 1.4465\n",
            "Epoch 4/30  Step1400/1563 Loss 1.7917\n",
            "Epoch 5/30  Step200/1563 Loss 1.7196\n",
            "Epoch 5/30  Step400/1563 Loss 1.5619\n",
            "Epoch 5/30  Step600/1563 Loss 1.4083\n",
            "Epoch 5/30  Step800/1563 Loss 1.6910\n",
            "Epoch 5/30  Step1000/1563 Loss 1.8144\n",
            "Epoch 5/30  Step1200/1563 Loss 1.6021\n",
            "Epoch 5/30  Step1400/1563 Loss 1.7500\n",
            "Epoch 6/30  Step200/1563 Loss 1.8836\n",
            "Epoch 6/30  Step400/1563 Loss 1.8005\n",
            "Epoch 6/30  Step600/1563 Loss 1.8146\n",
            "Epoch 6/30  Step800/1563 Loss 1.6223\n",
            "Epoch 6/30  Step1000/1563 Loss 1.4748\n",
            "Epoch 6/30  Step1200/1563 Loss 2.1190\n",
            "Epoch 6/30  Step1400/1563 Loss 1.6367\n",
            "Epoch 7/30  Step200/1563 Loss 1.5769\n",
            "Epoch 7/30  Step400/1563 Loss 1.6110\n",
            "Epoch 7/30  Step600/1563 Loss 1.4591\n",
            "Epoch 7/30  Step800/1563 Loss 1.5406\n",
            "Epoch 7/30  Step1000/1563 Loss 1.4177\n",
            "Epoch 7/30  Step1200/1563 Loss 1.7387\n",
            "Epoch 7/30  Step1400/1563 Loss 1.7579\n",
            "Epoch 8/30  Step200/1563 Loss 1.4872\n",
            "Epoch 8/30  Step400/1563 Loss 1.4477\n",
            "Epoch 8/30  Step600/1563 Loss 1.3391\n",
            "Epoch 8/30  Step800/1563 Loss 1.4502\n",
            "Epoch 8/30  Step1000/1563 Loss 1.2094\n",
            "Epoch 8/30  Step1200/1563 Loss 1.5764\n",
            "Epoch 8/30  Step1400/1563 Loss 1.3761\n",
            "Epoch 9/30  Step200/1563 Loss 1.4376\n",
            "Epoch 9/30  Step400/1563 Loss 1.6489\n",
            "Epoch 9/30  Step600/1563 Loss 1.5876\n",
            "Epoch 9/30  Step800/1563 Loss 2.1221\n",
            "Epoch 9/30  Step1000/1563 Loss 1.4455\n",
            "Epoch 9/30  Step1200/1563 Loss 1.4026\n",
            "Epoch 9/30  Step1400/1563 Loss 1.6054\n",
            "Epoch 10/30  Step200/1563 Loss 1.6031\n",
            "Epoch 10/30  Step400/1563 Loss 1.5571\n",
            "Epoch 10/30  Step600/1563 Loss 1.4320\n",
            "Epoch 10/30  Step800/1563 Loss 1.4370\n",
            "Epoch 10/30  Step1000/1563 Loss 1.4943\n",
            "Epoch 10/30  Step1200/1563 Loss 1.4981\n",
            "Epoch 10/30  Step1400/1563 Loss 1.5922\n",
            "Epoch 11/30  Step200/1563 Loss 1.2598\n",
            "Epoch 11/30  Step400/1563 Loss 1.5779\n",
            "Epoch 11/30  Step600/1563 Loss 1.3930\n",
            "Epoch 11/30  Step800/1563 Loss 1.2569\n",
            "Epoch 11/30  Step1000/1563 Loss 1.3564\n",
            "Epoch 11/30  Step1200/1563 Loss 1.7188\n",
            "Epoch 11/30  Step1400/1563 Loss 1.6082\n",
            "Epoch 12/30  Step200/1563 Loss 1.4150\n",
            "Epoch 12/30  Step400/1563 Loss 1.6272\n",
            "Epoch 12/30  Step600/1563 Loss 1.7273\n",
            "Epoch 12/30  Step800/1563 Loss 1.1643\n",
            "Epoch 12/30  Step1000/1563 Loss 1.7355\n",
            "Epoch 12/30  Step1200/1563 Loss 1.4590\n",
            "Epoch 12/30  Step1400/1563 Loss 1.3927\n",
            "Epoch 13/30  Step200/1563 Loss 1.4863\n",
            "Epoch 13/30  Step400/1563 Loss 1.7200\n",
            "Epoch 13/30  Step600/1563 Loss 1.8241\n",
            "Epoch 13/30  Step800/1563 Loss 1.3465\n",
            "Epoch 13/30  Step1000/1563 Loss 1.4804\n",
            "Epoch 13/30  Step1200/1563 Loss 1.3772\n",
            "Epoch 13/30  Step1400/1563 Loss 1.2717\n",
            "Epoch 14/30  Step200/1563 Loss 1.4958\n",
            "Epoch 14/30  Step400/1563 Loss 1.6538\n",
            "Epoch 14/30  Step600/1563 Loss 1.2385\n",
            "Epoch 14/30  Step800/1563 Loss 1.3448\n",
            "Epoch 14/30  Step1000/1563 Loss 1.6174\n",
            "Epoch 14/30  Step1200/1563 Loss 1.6764\n",
            "Epoch 14/30  Step1400/1563 Loss 1.7127\n",
            "Epoch 15/30  Step200/1563 Loss 1.6451\n",
            "Epoch 15/30  Step400/1563 Loss 1.3925\n",
            "Epoch 15/30  Step600/1563 Loss 1.5724\n",
            "Epoch 15/30  Step800/1563 Loss 1.7841\n",
            "Epoch 15/30  Step1000/1563 Loss 1.7030\n",
            "Epoch 15/30  Step1200/1563 Loss 1.5715\n",
            "Epoch 15/30  Step1400/1563 Loss 1.6013\n",
            "Epoch 16/30  Step200/1563 Loss 1.3066\n",
            "Epoch 16/30  Step400/1563 Loss 1.4939\n",
            "Epoch 16/30  Step600/1563 Loss 1.4565\n",
            "Epoch 16/30  Step800/1563 Loss 1.7794\n",
            "Epoch 16/30  Step1000/1563 Loss 1.7868\n",
            "Epoch 16/30  Step1200/1563 Loss 1.7251\n",
            "Epoch 16/30  Step1400/1563 Loss 1.5403\n",
            "Epoch 17/30  Step200/1563 Loss 1.4248\n",
            "Epoch 17/30  Step400/1563 Loss 1.3175\n",
            "Epoch 17/30  Step600/1563 Loss 1.4935\n",
            "Epoch 17/30  Step800/1563 Loss 1.5231\n",
            "Epoch 17/30  Step1000/1563 Loss 1.1104\n",
            "Epoch 17/30  Step1200/1563 Loss 1.5493\n",
            "Epoch 17/30  Step1400/1563 Loss 1.4835\n",
            "Epoch 18/30  Step200/1563 Loss 1.1415\n",
            "Epoch 18/30  Step400/1563 Loss 1.4939\n",
            "Epoch 18/30  Step600/1563 Loss 1.2758\n",
            "Epoch 18/30  Step800/1563 Loss 1.5996\n",
            "Epoch 18/30  Step1000/1563 Loss 1.4175\n",
            "Epoch 18/30  Step1200/1563 Loss 1.8106\n",
            "Epoch 18/30  Step1400/1563 Loss 1.4754\n",
            "Epoch 19/30  Step200/1563 Loss 1.5706\n",
            "Epoch 19/30  Step400/1563 Loss 1.5443\n",
            "Epoch 19/30  Step600/1563 Loss 1.4259\n",
            "Epoch 19/30  Step800/1563 Loss 1.2264\n",
            "Epoch 19/30  Step1000/1563 Loss 1.2762\n",
            "Epoch 19/30  Step1200/1563 Loss 1.2043\n",
            "Epoch 19/30  Step1400/1563 Loss 1.5060\n",
            "Epoch 20/30  Step200/1563 Loss 1.2827\n",
            "Epoch 20/30  Step400/1563 Loss 1.2537\n",
            "Epoch 20/30  Step600/1563 Loss 1.5012\n",
            "Epoch 20/30  Step800/1563 Loss 1.3836\n",
            "Epoch 20/30  Step1000/1563 Loss 1.4557\n",
            "Epoch 20/30  Step1200/1563 Loss 1.1367\n",
            "Epoch 20/30  Step1400/1563 Loss 1.1563\n",
            "Epoch 21/30  Step200/1563 Loss 1.2759\n",
            "Epoch 21/30  Step400/1563 Loss 1.4197\n",
            "Epoch 21/30  Step600/1563 Loss 1.2587\n",
            "Epoch 21/30  Step800/1563 Loss 1.2441\n",
            "Epoch 21/30  Step1000/1563 Loss 1.2182\n",
            "Epoch 21/30  Step1200/1563 Loss 1.5346\n",
            "Epoch 21/30  Step1400/1563 Loss 1.7590\n",
            "Epoch 22/30  Step200/1563 Loss 1.3066\n",
            "Epoch 22/30  Step400/1563 Loss 1.4482\n",
            "Epoch 22/30  Step600/1563 Loss 1.3771\n",
            "Epoch 22/30  Step800/1563 Loss 1.5282\n",
            "Epoch 22/30  Step1000/1563 Loss 1.0156\n",
            "Epoch 22/30  Step1200/1563 Loss 1.3793\n",
            "Epoch 22/30  Step1400/1563 Loss 1.2430\n",
            "Epoch 23/30  Step200/1563 Loss 1.5001\n",
            "Epoch 23/30  Step400/1563 Loss 1.5290\n",
            "Epoch 23/30  Step600/1563 Loss 1.1481\n",
            "Epoch 23/30  Step800/1563 Loss 0.9906\n",
            "Epoch 23/30  Step1000/1563 Loss 1.4763\n",
            "Epoch 23/30  Step1200/1563 Loss 1.4177\n",
            "Epoch 23/30  Step1400/1563 Loss 1.3776\n",
            "Epoch 24/30  Step200/1563 Loss 1.3139\n",
            "Epoch 24/30  Step400/1563 Loss 1.3684\n",
            "Epoch 24/30  Step600/1563 Loss 1.2341\n",
            "Epoch 24/30  Step800/1563 Loss 0.9648\n",
            "Epoch 24/30  Step1000/1563 Loss 1.0899\n",
            "Epoch 24/30  Step1200/1563 Loss 1.5662\n",
            "Epoch 24/30  Step1400/1563 Loss 1.5923\n",
            "Epoch 25/30  Step200/1563 Loss 1.1034\n",
            "Epoch 25/30  Step400/1563 Loss 1.3154\n",
            "Epoch 25/30  Step600/1563 Loss 1.5298\n",
            "Epoch 25/30  Step800/1563 Loss 1.2972\n",
            "Epoch 25/30  Step1000/1563 Loss 1.3652\n",
            "Epoch 25/30  Step1200/1563 Loss 1.3248\n",
            "Epoch 25/30  Step1400/1563 Loss 1.1672\n",
            "Epoch 26/30  Step200/1563 Loss 1.2064\n",
            "Epoch 26/30  Step400/1563 Loss 1.1955\n",
            "Epoch 26/30  Step600/1563 Loss 1.5003\n",
            "Epoch 26/30  Step800/1563 Loss 1.6369\n",
            "Epoch 26/30  Step1000/1563 Loss 1.5141\n",
            "Epoch 26/30  Step1200/1563 Loss 1.5524\n",
            "Epoch 26/30  Step1400/1563 Loss 1.3586\n",
            "Epoch 27/30  Step200/1563 Loss 1.1039\n",
            "Epoch 27/30  Step400/1563 Loss 1.3219\n",
            "Epoch 27/30  Step600/1563 Loss 1.3790\n",
            "Epoch 27/30  Step800/1563 Loss 1.2559\n",
            "Epoch 27/30  Step1000/1563 Loss 1.3075\n",
            "Epoch 27/30  Step1200/1563 Loss 1.2252\n",
            "Epoch 27/30  Step1400/1563 Loss 1.2043\n",
            "Epoch 28/30  Step200/1563 Loss 1.5805\n",
            "Epoch 28/30  Step400/1563 Loss 0.9454\n",
            "Epoch 28/30  Step600/1563 Loss 1.3729\n",
            "Epoch 28/30  Step800/1563 Loss 1.0938\n",
            "Epoch 28/30  Step1000/1563 Loss 0.9702\n",
            "Epoch 28/30  Step1200/1563 Loss 1.0438\n",
            "Epoch 28/30  Step1400/1563 Loss 1.4966\n",
            "Epoch 29/30  Step200/1563 Loss 1.6866\n",
            "Epoch 29/30  Step400/1563 Loss 1.3585\n",
            "Epoch 29/30  Step600/1563 Loss 1.0911\n",
            "Epoch 29/30  Step800/1563 Loss 0.9556\n",
            "Epoch 29/30  Step1000/1563 Loss 1.3399\n",
            "Epoch 29/30  Step1200/1563 Loss 1.4073\n",
            "Epoch 29/30  Step1400/1563 Loss 1.3589\n",
            "Epoch 30/30  Step200/1563 Loss 1.4810\n",
            "Epoch 30/30  Step400/1563 Loss 1.1684\n",
            "Epoch 30/30  Step600/1563 Loss 1.2268\n",
            "Epoch 30/30  Step800/1563 Loss 1.0397\n",
            "Epoch 30/30  Step1000/1563 Loss 1.3102\n",
            "Epoch 30/30  Step1200/1563 Loss 1.2639\n",
            "Epoch 30/30  Step1400/1563 Loss 1.5287\n"
          ]
        }
      ]
    },
    {
      "cell_type": "code",
      "source": [
        "with torch.no_grad():\n",
        "  n_correct=0\n",
        "  n_samples=0\n",
        "  for images,labels in train_loader:\n",
        "    images=images.to(device)\n",
        "    labels=labels.to(device)\n",
        "    outs=model(images)\n",
        "    _,predicted=torch.max(outs,1)\n",
        "    n_samples+=len(images)\n",
        "    n_correct+=(predicted==labels).sum().item()\n",
        "  acc=(n_correct/n_samples)*100\n",
        "  print(f'accuracy of this network {acc:.2f}%')\n"
      ],
      "metadata": {
        "colab": {
          "base_uri": "https://localhost:8080/"
        },
        "id": "sVEOq8P-PpAv",
        "outputId": "6e338954-5056-4c0e-a5ac-51f71e4a6c67"
      },
      "execution_count": 62,
      "outputs": [
        {
          "output_type": "stream",
          "name": "stdout",
          "text": [
            "accuracy of this network 55.38%\n"
          ]
        }
      ]
    },
    {
      "cell_type": "code",
      "source": [],
      "metadata": {
        "id": "GUWq5MdGTjMe"
      },
      "execution_count": null,
      "outputs": []
    }
  ]
}